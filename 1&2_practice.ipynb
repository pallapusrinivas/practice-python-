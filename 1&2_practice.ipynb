{
  "nbformat": 4,
  "nbformat_minor": 0,
  "metadata": {
    "colab": {
      "provenance": []
    },
    "kernelspec": {
      "name": "python3",
      "display_name": "Python 3"
    },
    "language_info": {
      "name": "python"
    }
  },
  "cells": [
    {
      "cell_type": "markdown",
      "source": [
        "#write a python program to print given number is even or odd"
      ],
      "metadata": {
        "id": "wvaZrm2-xNv-"
      }
    },
    {
      "cell_type": "code",
      "source": [
        "num=45\n",
        "if num% 2  == 0:\n",
        "         print(\"even\")\n",
        "else:\n",
        "         print(\"odd\")\n",
        "\n"
      ],
      "metadata": {
        "colab": {
          "base_uri": "https://localhost:8080/"
        },
        "id": "TRCBswAexa2q",
        "outputId": "1db3c08f-dbd6-41fa-ed5e-ffb7897fffc9"
      },
      "execution_count": null,
      "outputs": [
        {
          "output_type": "stream",
          "name": "stdout",
          "text": [
            "odd\n"
          ]
        }
      ]
    },
    {
      "cell_type": "markdown",
      "source": [
        "# write a python program to find the leap year"
      ],
      "metadata": {
        "id": "uwE745Oc2wbZ"
      }
    },
    {
      "cell_type": "code",
      "source": [
        "year = int(input(\"Enter a year: \"))\n",
        "if (year % 4 == 0 and year % 100 != 0) or (year % 400 == 0):\n",
        "            print(f\"{year} is a leap year.\")\n",
        "else:\n",
        "            print(f\"{year} is not a leap year.\")\n"
      ],
      "metadata": {
        "colab": {
          "base_uri": "https://localhost:8080/"
        },
        "id": "-fZ4_a088hY0",
        "outputId": "fb7140ed-d838-4228-bff1-6c8895c90f0f"
      },
      "execution_count": null,
      "outputs": [
        {
          "output_type": "stream",
          "name": "stdout",
          "text": [
            "Enter a year: 2024\n",
            "2024 is a leap year.\n"
          ]
        }
      ]
    },
    {
      "cell_type": "code",
      "source": [
        "a=2025\n",
        "b=4\n",
        "c=a%b\n",
        "if c==0:\n",
        "    print(\"leap year\")\n",
        "else:\n",
        "    print(\"not leap year\")"
      ],
      "metadata": {
        "colab": {
          "base_uri": "https://localhost:8080/"
        },
        "id": "hVrGPxZc8t_1",
        "outputId": "fc847fdf-4ecf-4647-da64-848b618c1ff6"
      },
      "execution_count": null,
      "outputs": [
        {
          "output_type": "stream",
          "name": "stdout",
          "text": [
            "not leap year\n"
          ]
        }
      ]
    },
    {
      "cell_type": "code",
      "source": [
        "\n",
        "a=30\n",
        "b=4\n",
        "c=a%b\n",
        "if c==50:\n",
        "    print(\"leap year\")\n",
        "else:\n",
        "    print(\"not leap year\")"
      ],
      "metadata": {
        "colab": {
          "base_uri": "https://localhost:8080/"
        },
        "id": "G5jMyVGi95MP",
        "outputId": "958227a0-f4c6-4913-a1d9-1c5503c2d210"
      },
      "execution_count": null,
      "outputs": [
        {
          "output_type": "stream",
          "name": "stdout",
          "text": [
            "not leap year\n"
          ]
        }
      ]
    },
    {
      "cell_type": "code",
      "source": [
        "f=2024\n",
        "g=4\n",
        "h=f%g\n",
        "if h==0:\n",
        "    print(\"leap year\")\n",
        "else:\n",
        "    print(\"not leap year\")"
      ],
      "metadata": {
        "colab": {
          "base_uri": "https://localhost:8080/"
        },
        "id": "7VMU9SoN-iH-",
        "outputId": "9c98c093-cda6-4a5a-f52a-eb14318e4dc8"
      },
      "execution_count": null,
      "outputs": [
        {
          "output_type": "stream",
          "name": "stdout",
          "text": [
            "leap year\n"
          ]
        }
      ]
    },
    {
      "cell_type": "markdown",
      "source": [
        "#find the max number amoung"
      ],
      "metadata": {
        "id": "NIes10GA7Icf"
      }
    },
    {
      "cell_type": "code",
      "source": [
        "a=3\n",
        "b=500\n",
        "c=6\n",
        "if a>b and a>c:\n",
        "    print(\"a is greater\")\n",
        "elif b>a and b>c:\n",
        "    print(\"b is greater\")\n",
        "else:\n",
        "    print(\"c is greater\")"
      ],
      "metadata": {
        "colab": {
          "base_uri": "https://localhost:8080/"
        },
        "id": "sy7_RwUp7cs8",
        "outputId": "c58816dc-d27e-4527-9c1c-0e7a36229e0b"
      },
      "execution_count": null,
      "outputs": [
        {
          "output_type": "stream",
          "name": "stdout",
          "text": [
            "b is greater\n"
          ]
        }
      ]
    },
    {
      "cell_type": "markdown",
      "source": [
        "#"
      ],
      "metadata": {
        "id": "78xlxj-ky0sG"
      }
    }
  ]
}