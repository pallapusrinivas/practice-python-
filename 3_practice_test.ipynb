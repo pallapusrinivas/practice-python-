{
  "nbformat": 4,
  "nbformat_minor": 0,
  "metadata": {
    "colab": {
      "provenance": []
    },
    "kernelspec": {
      "name": "python3",
      "display_name": "Python 3"
    },
    "language_info": {
      "name": "python"
    }
  },
  "cells": [
    {
      "cell_type": "markdown",
      "source": [
        "#Remove the duplicates from list"
      ],
      "metadata": {
        "id": "38Nv21zrzUeU"
      }
    },
    {
      "cell_type": "code",
      "source": [
        "list=[2,3,6,6,8,9]\n",
        "print(list)"
      ],
      "metadata": {
        "colab": {
          "base_uri": "https://localhost:8080/"
        },
        "id": "9JowsEsFzm9c",
        "outputId": "3c24a516-bebc-40d0-cf1e-903a200e098e"
      },
      "execution_count": null,
      "outputs": [
        {
          "output_type": "stream",
          "name": "stdout",
          "text": [
            "[2, 3, 6, 6, 8, 9]\n"
          ]
        }
      ]
    },
    {
      "cell_type": "code",
      "source": [
        "lst=[2,3,6,6,8,9]\n",
        "lst=list(dict.fromkeys(lst))\n",
        "print(lst)\n"
      ],
      "metadata": {
        "colab": {
          "base_uri": "https://localhost:8080/"
        },
        "id": "xgrc8fOO1OJU",
        "outputId": "82a7dd20-4743-46e8-baf9-4c0bf1d691ab"
      },
      "execution_count": 1,
      "outputs": [
        {
          "output_type": "stream",
          "name": "stdout",
          "text": [
            "[2, 3, 6, 8, 9]\n"
          ]
        },
        {
          "output_type": "execute_result",
          "data": {
            "text/plain": [
              "<function print>"
            ]
          },
          "metadata": {},
          "execution_count": 1
        }
      ]
    },
    {
      "cell_type": "markdown",
      "source": [
        "#w a p p to check given char is ovels"
      ],
      "metadata": {
        "id": "Z3FrOFPj2adN"
      }
    },
    {
      "cell_type": "code",
      "source": [
        "ovels={'a','e','i','o','u'}\n",
        "char='l'\n",
        "if char in ovels:\n",
        "    print(\"char is ovels\")\n",
        "else:\n",
        "    print(\"char is not ovels\")"
      ],
      "metadata": {
        "colab": {
          "base_uri": "https://localhost:8080/"
        },
        "id": "Koa-jbMo5Nkr",
        "outputId": "64985438-8568-4f34-d2e3-0a0bd8ca6a7c"
      },
      "execution_count": 53,
      "outputs": [
        {
          "output_type": "stream",
          "name": "stdout",
          "text": [
            "char is not ovels\n"
          ]
        }
      ]
    },
    {
      "cell_type": "markdown",
      "source": [
        "# veg and non veg items"
      ],
      "metadata": {
        "id": "Tf70y7iG6Kxy"
      }
    },
    {
      "cell_type": "code",
      "source": [
        "order=\"chicken\"\n",
        "\n",
        "a=[\"chicken\",\"mutton\",\"fish\"]\n",
        "b=[\"dal\",\"idli\",\"roti\"]\n",
        "if order in a:\n",
        "    print(\"non_veg \",\" item is available\")\n",
        "elif order in b:\n",
        "    print(\"veg\",\"item is available\")\n",
        "else:\n",
        "    print(\"currently not available\")"
      ],
      "metadata": {
        "colab": {
          "base_uri": "https://localhost:8080/"
        },
        "id": "ZN5eIfqC6jPh",
        "outputId": "edc1aa9c-9337-46fa-c2d4-072d43597071"
      },
      "execution_count": 47,
      "outputs": [
        {
          "output_type": "stream",
          "name": "stdout",
          "text": [
            "non_veg   item is available\n"
          ]
        }
      ]
    },
    {
      "cell_type": "markdown",
      "source": [
        "#Find the common element between two list"
      ],
      "metadata": {
        "id": "_ZV4DeAc_IrH"
      }
    },
    {
      "cell_type": "code",
      "source": [
        "a=[1,2,3,4,5,6]\n",
        "b=[4,5,6,7,8,9]\n",
        "c=set(a).intersection(set(b))\n",
        "print(c)"
      ],
      "metadata": {
        "colab": {
          "base_uri": "https://localhost:8080/"
        },
        "id": "rFySdxxvx1iX",
        "outputId": "148050fe-590a-4cd3-c657-fee8bcb684dd"
      },
      "execution_count": 55,
      "outputs": [
        {
          "output_type": "stream",
          "name": "stdout",
          "text": [
            "{4, 5, 6}\n"
          ]
        }
      ]
    },
    {
      "cell_type": "markdown",
      "source": [
        "#To captalize the first letter in a word"
      ],
      "metadata": {
        "id": "9XDpTOfg_Iii"
      }
    },
    {
      "cell_type": "code",
      "source": [
        "char=\"hello \"\n",
        "print(char.title())"
      ],
      "metadata": {
        "colab": {
          "base_uri": "https://localhost:8080/"
        },
        "id": "D2Gm3nAUybTQ",
        "outputId": "944c799b-a139-4bd1-e91c-d53a2795f973"
      },
      "execution_count": 7,
      "outputs": [
        {
          "output_type": "stream",
          "name": "stdout",
          "text": [
            "Hello \n"
          ]
        }
      ]
    },
    {
      "cell_type": "markdown",
      "source": [
        "#Find the length of a longest sentence word"
      ],
      "metadata": {
        "id": "cC2ljMel_eQZ"
      }
    },
    {
      "cell_type": "code",
      "source": [
        "char=\"srinivas\"\n",
        "print(len(char))"
      ],
      "metadata": {
        "colab": {
          "base_uri": "https://localhost:8080/"
        },
        "id": "n0maI42-zePR",
        "outputId": "66372b42-bc18-4b95-c521-2e3482624d90"
      },
      "execution_count": 9,
      "outputs": [
        {
          "output_type": "stream",
          "name": "stdout",
          "text": [
            "8\n"
          ]
        }
      ]
    },
    {
      "cell_type": "markdown",
      "source": [
        "#Check if a list is empty or not"
      ],
      "metadata": {
        "id": "SbAJKFGk_s8E"
      }
    },
    {
      "cell_type": "code",
      "source": [
        "a=[3,4,5,6]\n",
        "b=[]\n",
        "if a:\n",
        "    print(\"list is not empty\")\n",
        "else:\n",
        "    print(\"list is  empty\")\n",
        "if  b:\n",
        "    print(\"list is not empty\")\n",
        "else:\n",
        "    print(\"list is  empty\")"
      ],
      "metadata": {
        "colab": {
          "base_uri": "https://localhost:8080/"
        },
        "id": "cXRYMzT61iXy",
        "outputId": "c941bd4d-654e-4415-9b28-4e4320b2b56d"
      },
      "execution_count": 16,
      "outputs": [
        {
          "output_type": "stream",
          "name": "stdout",
          "text": [
            "list is not empty\n",
            "list is  empty\n"
          ]
        }
      ]
    },
    {
      "cell_type": "markdown",
      "source": [
        "#Calculate the squre root of given number"
      ],
      "metadata": {
        "id": "SzY90K3M_xRq"
      }
    },
    {
      "cell_type": "code",
      "source": [
        "a=80\n",
        "print(a**0.5)\n"
      ],
      "metadata": {
        "colab": {
          "base_uri": "https://localhost:8080/"
        },
        "id": "7Lj-rFgc4bbx",
        "outputId": "a50eefcb-9328-4160-d220-813f88b8dd77"
      },
      "execution_count": 42,
      "outputs": [
        {
          "output_type": "stream",
          "name": "stdout",
          "text": [
            "8.94427190999916\n"
          ]
        }
      ]
    },
    {
      "cell_type": "markdown",
      "source": [
        "#Find the max number in a list"
      ],
      "metadata": {
        "id": "LlGZQhY5_3FR"
      }
    },
    {
      "cell_type": "code",
      "source": [
        "a=[1,2,3,4,5,6,6,80,80]\n",
        "print(max(a))"
      ],
      "metadata": {
        "colab": {
          "base_uri": "https://localhost:8080/"
        },
        "id": "ijUb0FL353g-",
        "outputId": "c07c9f1e-1683-48bf-9e16-647923fc6c75"
      },
      "execution_count": 35,
      "outputs": [
        {
          "output_type": "stream",
          "name": "stdout",
          "text": [
            "80\n"
          ]
        }
      ]
    },
    {
      "cell_type": "markdown",
      "source": [
        "#Replace the all occurance of a char in a string"
      ],
      "metadata": {
        "id": "vOSnxz8u_95V"
      }
    },
    {
      "cell_type": "code",
      "source": [
        "a=\"dj tillu\"\n",
        "print(a.replace(\"t\",\"b\"))"
      ],
      "metadata": {
        "colab": {
          "base_uri": "https://localhost:8080/"
        },
        "id": "Ok47M62N6bum",
        "outputId": "3aa59439-accc-4565-db0c-387cb0a47d3a"
      },
      "execution_count": 44,
      "outputs": [
        {
          "output_type": "stream",
          "name": "stdout",
          "text": [
            "dj billu\n"
          ]
        }
      ]
    }
  ]
}